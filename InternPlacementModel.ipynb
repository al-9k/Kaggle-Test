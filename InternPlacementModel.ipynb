{
  "nbformat": 4,
  "nbformat_minor": 0,
  "metadata": {
    "colab": {
      "provenance": [],
      "authorship_tag": "ABX9TyNAaHL2dh2tqlz2wJ9nHk7R",
      "include_colab_link": true
    },
    "kernelspec": {
      "name": "python3",
      "display_name": "Python 3"
    },
    "language_info": {
      "name": "python"
    }
  },
  "cells": [
    {
      "cell_type": "markdown",
      "metadata": {
        "id": "view-in-github",
        "colab_type": "text"
      },
      "source": [
        "<a href=\"https://colab.research.google.com/github/al-9k/Kaggle-Test/blob/main/InternPlacementModel.ipynb\" target=\"_parent\"><img src=\"https://colab.research.google.com/assets/colab-badge.svg\" alt=\"Open In Colab\"/></a>"
      ]
    },
    {
      "cell_type": "markdown",
      "source": [
        "### **This was adapted from local .py files into python. If user wishes to use this in local files, then they should write \"from functions import *\" in main.py and model.py**"
      ],
      "metadata": {
        "id": "wbtwfuYqSRGJ"
      }
    },
    {
      "cell_type": "markdown",
      "source": [
        "### **functions.py -- Data PreProcessing Functions**"
      ],
      "metadata": {
        "id": "FA4ExhsCNwTb"
      }
    },
    {
      "cell_type": "code",
      "source": [
        "from sklearn.preprocessing import LabelEncoder\n",
        "\n",
        "def label_encoder(df, columns):\n",
        "    \"\"\"\n",
        "    Here we encode categorical (non-numerical) columns in a DataFrame using LabelEncoder.\n",
        "\n",
        "    Parameters:\n",
        "    - df (DataFrame): The DataFrame containing the columns to be encoded.\n",
        "    - columns (list): A list of column names to be encoded.\n",
        "\n",
        "    Returns:\n",
        "    - DataFrame: The DataFrame with encoded categorical columns.\n",
        "\n",
        "    This encoding will be useful in training the model in model.py when we import the Kaggle data\n",
        "    \"\"\"\n",
        "    for column in columns:\n",
        "        # Initialize LabelEncoder for the current column\n",
        "        le = LabelEncoder()\n",
        "        # Fit and transform the column\n",
        "        df[column] = le.fit_transform(df[column])\n",
        "    return df"
      ],
      "metadata": {
        "id": "duNcixjCM1PG"
      },
      "execution_count": 8,
      "outputs": []
    },
    {
      "cell_type": "markdown",
      "source": [
        "### **model.py -- Model Training & Evaluation**"
      ],
      "metadata": {
        "id": "RZVTmo5CPi3M"
      }
    },
    {
      "cell_type": "code",
      "execution_count": 9,
      "metadata": {
        "colab": {
          "base_uri": "https://localhost:8080/"
        },
        "id": "ry0XPqVeMtlC",
        "outputId": "519ec2a2-d9a3-42e9-ab5f-28dbbff5b382"
      },
      "outputs": [
        {
          "output_type": "stream",
          "name": "stdout",
          "text": [
            "              precision    recall  f1-score   support\n",
            "\n",
            "           0       0.57      0.64      0.60        91\n",
            "           1       0.75      0.70      0.73       144\n",
            "\n",
            "    accuracy                           0.68       235\n",
            "   macro avg       0.66      0.67      0.67       235\n",
            "weighted avg       0.68      0.68      0.68       235\n",
            "\n"
          ]
        }
      ],
      "source": [
        "import pandas as pd\n",
        "from sklearn.model_selection import train_test_split\n",
        "from sklearn.ensemble import RandomForestClassifier\n",
        "from sklearn.metrics import classification_report\n",
        "import joblib\n",
        "\n",
        "\"\"\"\n",
        "Now here, we import the kaggle dataset. We first clean it from duplicates, then we use it to train a model! We then print the performance & precision of this model.\n",
        "\"\"\"\n",
        "\n",
        "# URL to the CSV file containing the kaggle dataset (uploaded to Alhasan's github, with likely irrelevant data columns -- Hostel and HistoryOfBacklogs -- being removed)\n",
        "csv_url = \"https://raw.githubusercontent.com/al-9k/Kaggle-Test/main/collegePlace.csv\"\n",
        "\n",
        "# Read the dataset from the CSV file into a DataFrame\n",
        "df = pd.read_csv(csv_url)\n",
        "\n",
        "# Remove duplicate rows from the DataFrame, keeping the first occurrence -- cleaning data\n",
        "df.drop_duplicates(keep='first', inplace=True)\n",
        "\n",
        "# Reset the index of the DataFrame after dropping duplicates\n",
        "df = df.reset_index(drop=True)\n",
        "\n",
        "# Encode categorical columns using the label_encoder function from functions.py\n",
        "df = label_encoder(df, df.columns)\n",
        "\n",
        "# Separate features (X) and target variable (y) -- the target y: PlacedOrNot -- features X: age, gender, stream, CGPA, nb of internships\n",
        "X = df.drop('PlacedOrNot', axis=1)\n",
        "y = df['PlacedOrNot']\n",
        "\n",
        "# Split the dataset into training and testing sets\n",
        "X_train, X_test, y_train, y_test = train_test_split(X, y, test_size=0.3, random_state=42)\n",
        "\n",
        "# Initialize and train a Random Forest Classifier\n",
        "rf_classifier = RandomForestClassifier(random_state=42)\n",
        "rf_classifier.fit(X_train, y_train)\n",
        "\n",
        "# Save the trained model to a file named 'model.pkl'\n",
        "joblib.dump(rf_classifier, 'model.pkl')\n",
        "\n",
        "# Make predictions on the test set\n",
        "y_pred = rf_classifier.predict(X_test)\n",
        "\n",
        "# Print classification report containing precision, recall, f1-score, and support\n",
        "print(classification_report(y_test, y_pred))\n",
        "\n",
        "\n",
        "\"\"\"\n",
        "    - Precision measures the model's ability to make accurate positive predictions.\n",
        "    - Recall measures the model's ability to identify all relevant positive instances.\n",
        "    - F1-score balances precision and recall into a single metric.\n",
        "    - Support provides the number of true instances for each class.\n",
        "\"\"\""
      ]
    },
    {
      "cell_type": "markdown",
      "source": [
        "### **main.py -- Model's Prediction and Result Display**"
      ],
      "metadata": {
        "id": "aR7iXESrPwzd"
      }
    },
    {
      "cell_type": "code",
      "source": [
        "import pandas as pd\n",
        "import joblib\n",
        "import numpy as np\n",
        "\n",
        "\"\"\"\n",
        "Now, we can load the model, and input the features of students (i.e. gender, age ,stream, CGPA and nb of internships) for the model to then to predict the likelihood of each student\n",
        "being placed in a job based on their features.\n",
        "\"\"\"\n",
        "\n",
        "# Load the trained model from the file 'model.pkl'\n",
        "model = joblib.load('model.pkl')\n",
        "\n",
        "# Here you may input the features for which the model will predict likelihood of placement. In this example, we give here the features of 10 students.\n",
        "data = {\n",
        "    'Age': [22, 25, 24, 28, 25, 21, 29, 25, 27, 23],\n",
        "    'Gender': ['Male', 'Male', 'Female', 'Male', 'Female', 'Female', 'Male', 'Female', 'Female', 'Male'],\n",
        "    'Stream': ['Electronics And Communication', 'Mechanical', 'Mechanical', 'Computer Science', 'Computer Science',\n",
        "               'Electronics And Communication', 'Mechanical', 'Electronics And Communication', 'Electronics And Communication', 'Mechanical'],\n",
        "    'Internships': [2, 4, 2, 3, 5, 1, 5, 0, 5, 3],\n",
        "    'CGPA': [8, 5, 6, 7, 9, 9, 7, 5, 9, 8]\n",
        "}\n",
        "\n",
        "# Create a DataFrame from the data\n",
        "df = pd.DataFrame(data)\n",
        "\n",
        "# Encode categorical columns using the label_encoder function from functions.py\n",
        "df = label_encoder(df, df.columns)\n",
        "\n",
        "# Make predictions using the loaded model\n",
        "prediction = model.predict(df)\n",
        "# Calculate uncertainty (probability of the predicted class) for each prediction\n",
        "uncertainty = np.max(model.predict_proba(df), axis=1) * 100\n",
        "\n",
        "# Iterate over each prediction and print the result along with certainty\n",
        "for pred, uncert in zip(prediction, uncertainty):\n",
        "    # Translate prediction label to human-readable form\n",
        "    if pred == 1:\n",
        "        pred_text = 'Placed'\n",
        "    else:\n",
        "        pred_text = 'Not Placed'\n",
        "    # Print prediction result and certainty percentage\n",
        "    print(f\"Prediction: {pred_text} \\t | \\t Certainty: {uncert:.1f}%\")\n",
        "    print('----------------------------------------------------')\n"
      ],
      "metadata": {
        "colab": {
          "base_uri": "https://localhost:8080/"
        },
        "id": "dO-uw-bTM6w2",
        "outputId": "52ea8a90-8f8c-42c4-8c5d-9abbcdf2f071"
      },
      "execution_count": 7,
      "outputs": [
        {
          "output_type": "stream",
          "name": "stdout",
          "text": [
            "Prediction: Placed \t | \t Certainty: 99.0%\n",
            "----------------------------------------------------\n",
            "Prediction: Placed \t | \t Certainty: 56.0%\n",
            "----------------------------------------------------\n",
            "Prediction: Placed \t | \t Certainty: 74.3%\n",
            "----------------------------------------------------\n",
            "Prediction: Placed \t | \t Certainty: 88.7%\n",
            "----------------------------------------------------\n",
            "Prediction: Placed \t | \t Certainty: 100.0%\n",
            "----------------------------------------------------\n",
            "Prediction: Placed \t | \t Certainty: 100.0%\n",
            "----------------------------------------------------\n",
            "Prediction: Placed \t | \t Certainty: 74.7%\n",
            "----------------------------------------------------\n",
            "Prediction: Not Placed \t | \t Certainty: 98.0%\n",
            "----------------------------------------------------\n",
            "Prediction: Placed \t | \t Certainty: 100.0%\n",
            "----------------------------------------------------\n",
            "Prediction: Placed \t | \t Certainty: 96.0%\n",
            "----------------------------------------------------\n"
          ]
        }
      ]
    }
  ]
}